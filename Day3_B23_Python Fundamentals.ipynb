{
 "cells": [
  {
   "cell_type": "code",
   "execution_count": 1,
   "metadata": {},
   "outputs": [],
   "source": [
    "#general syntax for f string ;\n",
    "\n",
    "#  ---->      f\"{placeholder1}{placeholder2}\""
   ]
  },
  {
   "cell_type": "code",
   "execution_count": 7,
   "metadata": {},
   "outputs": [],
   "source": [
    "first_name ='SHAIK'\n",
    "last_name='SHAHEER'\n",
    "middle_name='GET'"
   ]
  },
  {
   "cell_type": "code",
   "execution_count": 5,
   "metadata": {},
   "outputs": [
    {
     "name": "stdout",
     "output_type": "stream",
     "text": [
      "SHAIK SHAHEER\n"
     ]
    }
   ],
   "source": [
    "full_name=f\"{first_name} {last_name}\"        \n",
    "print(full_name)"
   ]
  },
  {
   "cell_type": "code",
   "execution_count": 8,
   "metadata": {
    "scrolled": true
   },
   "outputs": [
    {
     "name": "stdout",
     "output_type": "stream",
     "text": [
      "SHAIK GET SHAHEER\n"
     ]
    }
   ],
   "source": [
    "full_name1=f\"{first_name} {middle_name} {last_name}\"\n",
    "print(full_name1)"
   ]
  },
  {
   "cell_type": "code",
   "execution_count": 9,
   "metadata": {},
   "outputs": [
    {
     "name": "stdout",
     "output_type": "stream",
     "text": [
      "Shaik Shaheer\n"
     ]
    }
   ],
   "source": [
    "print(full_name.title())      #Enhancement mode"
   ]
  },
  {
   "cell_type": "code",
   "execution_count": 10,
   "metadata": {},
   "outputs": [
    {
     "name": "stdout",
     "output_type": "stream",
     "text": [
      "Keep on learning,Shaik Shaheer\n"
     ]
    }
   ],
   "source": [
    "print(f\"Keep on learning,{full_name.title()}\")"
   ]
  },
  {
   "cell_type": "code",
   "execution_count": 12,
   "metadata": {},
   "outputs": [],
   "source": [
    "#   \\n - for printing output in new line\n",
    "#    \\t - for adding space"
   ]
  },
  {
   "cell_type": "code",
   "execution_count": 14,
   "metadata": {},
   "outputs": [
    {
     "name": "stdout",
     "output_type": "stream",
     "text": [
      "fav_City:\n",
      "Bangalore\n",
      "Chennai\n",
      "Hydrabad\n"
     ]
    }
   ],
   "source": [
    "print(\"fav_City:\\nBangalore\\nChennai\\nHydrabad\")"
   ]
  },
  {
   "cell_type": "code",
   "execution_count": 15,
   "metadata": {},
   "outputs": [
    {
     "name": "stdout",
     "output_type": "stream",
     "text": [
      "fav_City:\n",
      "\tBangalore\n",
      "\tChennai\n",
      "\tHydrabad\n"
     ]
    }
   ],
   "source": [
    "print(\"fav_City:\\n\\tBangalore\\n\\tChennai\\n\\tHydrabad\")"
   ]
  },
  {
   "cell_type": "code",
   "execution_count": 16,
   "metadata": {},
   "outputs": [],
   "source": [
    "#Removing whitesapces \n",
    "    #  rstrip:removing whitespace to right side of the string\n",
    "    #  lstrip:removing whitespace to left  siade of the string\n",
    "    #  strip:removing whitespace on both left and right sides of string"
   ]
  },
  {
   "cell_type": "code",
   "execution_count": 21,
   "metadata": {},
   "outputs": [
    {
     "data": {
      "text/plain": [
       "'SHAIK'"
      ]
     },
     "execution_count": 21,
     "metadata": {},
     "output_type": "execute_result"
    }
   ],
   "source": [
    "my_name1=\"SHAIK \"                 #Right Strip\n",
    "my_name1.rstrip()"
   ]
  },
  {
   "cell_type": "code",
   "execution_count": 23,
   "metadata": {},
   "outputs": [
    {
     "data": {
      "text/plain": [
       "'SHAIK'"
      ]
     },
     "execution_count": 23,
     "metadata": {},
     "output_type": "execute_result"
    }
   ],
   "source": [
    "my_name2=\" SHAIK\"                #Left Strip\n",
    "my_name2.lstrip()"
   ]
  },
  {
   "cell_type": "code",
   "execution_count": null,
   "metadata": {},
   "outputs": [],
   "source": [
    "my_name3=\" SHAIK \"              #Strip\n",
    "my_name3.strip()"
   ]
  }
 ],
 "metadata": {
  "kernelspec": {
   "display_name": "Python 3",
   "language": "python",
   "name": "python3"
  },
  "language_info": {
   "codemirror_mode": {
    "name": "ipython",
    "version": 3
   },
   "file_extension": ".py",
   "mimetype": "text/x-python",
   "name": "python",
   "nbconvert_exporter": "python",
   "pygments_lexer": "ipython3",
   "version": "3.7.6"
  }
 },
 "nbformat": 4,
 "nbformat_minor": 4
}
