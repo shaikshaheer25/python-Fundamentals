{
 "cells": [
  {
   "cell_type": "code",
   "execution_count": 21,
   "metadata": {},
   "outputs": [
    {
     "name": "stdout",
     "output_type": "stream",
     "text": [
      "['shaik', 'Shaheer', 'sar', 'reehahs']\n"
     ]
    }
   ],
   "source": [
    "#introduction to looping statements :\n",
    "class_stu=[\"shaik\",\"Shaheer\",\"sar\",\"reehahs\"]\n",
    "print(class_stu)"
   ]
  },
  {
   "cell_type": "code",
   "execution_count": 24,
   "metadata": {},
   "outputs": [
    {
     "name": "stdout",
     "output_type": "stream",
     "text": [
      "Hiii,Shaheer\n",
      "How is ur frnd ,reehahs\n"
     ]
    }
   ],
   "source": [
    "print(f\"Hiii,{class_stu[1]}\")                              #for Individual student\n",
    "print(f\"How is ur frnd ,{class_stu[3]}\")"
   ]
  },
  {
   "cell_type": "code",
   "execution_count": 30,
   "metadata": {},
   "outputs": [
    {
     "name": "stdout",
     "output_type": "stream",
     "text": [
      " Happy New Year shaik\n",
      " Happy New Year Shaheer\n",
      " Happy New Year sar\n",
      " Happy New Year reehahs\n"
     ]
    }
   ],
   "source": [
    "for student in class_stu:\n",
    "    print(f\" Happy New Year {student}\")"
   ]
  },
  {
   "cell_type": "code",
   "execution_count": 33,
   "metadata": {},
   "outputs": [
    {
     "name": "stdout",
     "output_type": "stream",
     "text": [
      " Happy New Year Shaik\n",
      " Happy New Year Shaheer\n",
      " Happy New Year Sar\n",
      " Happy New Year Reehahs\n"
     ]
    }
   ],
   "source": [
    "for student in class_stu:\n",
    "    print(f\" Happy New Year {student.title()}\")         # Improvisationof code"
   ]
  },
  {
   "cell_type": "code",
   "execution_count": 34,
   "metadata": {},
   "outputs": [
    {
     "name": "stdout",
     "output_type": "stream",
     "text": [
      " Happy New Year Shaik\n",
      " I Wish this year will be grateful for you Shaik\n",
      " Happy New Year Shaheer\n",
      " I Wish this year will be grateful for you Shaheer\n",
      " Happy New Year Sar\n",
      " I Wish this year will be grateful for you Sar\n",
      " Happy New Year Reehahs\n",
      " I Wish this year will be grateful for you Reehahs\n"
     ]
    }
   ],
   "source": [
    "for student in class_stu:\n",
    "    print(f\" Happy New Year {student.title()}\")\n",
    "    print(f\" I Wish this year will be grateful for you {student.title()}\")\n",
    "    "
   ]
  },
  {
   "cell_type": "code",
   "execution_count": null,
   "metadata": {},
   "outputs": [],
   "source": []
  }
 ],
 "metadata": {
  "kernelspec": {
   "display_name": "Python 3",
   "language": "python",
   "name": "python3"
  },
  "language_info": {
   "codemirror_mode": {
    "name": "ipython",
    "version": 3
   },
   "file_extension": ".py",
   "mimetype": "text/x-python",
   "name": "python",
   "nbconvert_exporter": "python",
   "pygments_lexer": "ipython3",
   "version": "3.7.6"
  }
 },
 "nbformat": 4,
 "nbformat_minor": 4
}
